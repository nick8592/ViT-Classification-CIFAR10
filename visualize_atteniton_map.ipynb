{
 "cells": [
  {
   "cell_type": "markdown",
   "metadata": {},
   "source": [
    "Load required packages"
   ]
  },
  {
   "cell_type": "code",
   "execution_count": 36,
   "metadata": {},
   "outputs": [],
   "source": [
    "import os\n",
    "import torch\n",
    "import argparse\n",
    "import datetime\n",
    "import torchvision\n",
    "import numpy as np\n",
    "import matplotlib.pyplot as plt\n",
    "\n",
    "from PIL import Image\n",
    "from torchvision import transforms\n",
    "from model import VisionTransformer"
   ]
  },
  {
   "cell_type": "markdown",
   "metadata": {},
   "source": [
    "Set hyperparameter"
   ]
  },
  {
   "cell_type": "code",
   "execution_count": 37,
   "metadata": {},
   "outputs": [],
   "source": [
    "def hyperparameters():\n",
    "    parser = argparse.ArgumentParser()\n",
    "    \n",
    "    # Test Arguments\n",
    "    parser.add_argument(\"--batch_size\", type=int, default=128)\n",
    "    parser.add_argument(\"--num_workers\", type=int, default=2)\n",
    "    parser.add_argument(\"--device\", type=str, default=\"mps\", choices=[\"cpu\", \"cuda\", \"mps\"])\n",
    "    parser.add_argument(\"--output_path\", type=str, default='./output')\n",
    "    parser.add_argument(\"--timestamp\", type=str, default=\"1900-01-01-00-00\")\n",
    "    parser.add_argument(\"--mode\", type=str, default=\"cifar\", choices=['cifar', 'single-cifar', 'custom'])\n",
    "    parser.add_argument(\"--no_image\", default=False, action='store_true')\n",
    "\n",
    "    # Data Arguments\n",
    "    parser.add_argument(\"--image_size\", type=int, default=32)\n",
    "    parser.add_argument(\"--n_channels\", type=int, default=3)\n",
    "    parser.add_argument(\"--patch_size\", type=int, default=4)\n",
    "    parser.add_argument(\"--n_classes\", type=int, default=10)\n",
    "    parser.add_argument(\"--data_path\", type=str, default='./data')\n",
    "    parser.add_argument(\"--num_test_images\", type=int, default=None)\n",
    "    parser.add_argument(\"--index\", type=int, default=1)\n",
    "    parser.add_argument(\"--image_path\", type=str, default=None)\n",
    "\n",
    "    # ViT Arguments\n",
    "    parser.add_argument(\"--embed_dim\", type=int, default=128)\n",
    "    parser.add_argument(\"--n_layers\", type=int, default=6)\n",
    "    parser.add_argument(\"--n_attention_heads\", type=int, default=4)\n",
    "    parser.add_argument(\"--forward_mul\", type=int, default=2)\n",
    "    parser.add_argument(\"--dropout\", type=int, default=0.1)\n",
    "    parser.add_argument(\"--model_path\", type=str, default='model/vit-classification-cifar10-colab-t4/ViT_model_199.pt')\n",
    "\n",
    "    args = parser.parse_args(\"\") # https://stackoverflow.com/a/69925856\n",
    "    return args\n",
    "\n",
    "args = hyperparameters()"
   ]
  },
  {
   "cell_type": "markdown",
   "metadata": {},
   "source": [
    "Set CIFAR-10 classes"
   ]
  },
  {
   "cell_type": "code",
   "execution_count": 38,
   "metadata": {},
   "outputs": [],
   "source": [
    "classes = ('plane', 'car', 'bird', 'cat',\n",
    "           'deer', 'dog', 'frog', 'horse', 'ship', 'truck')"
   ]
  },
  {
   "cell_type": "markdown",
   "metadata": {},
   "source": [
    "Get image and label"
   ]
  },
  {
   "cell_type": "code",
   "execution_count": 39,
   "metadata": {},
   "outputs": [
    {
     "name": "stdout",
     "output_type": "stream",
     "text": [
      "Files already downloaded and verified\n",
      "Image shape: torch.Size([3, 32, 32])\n",
      "Label: 8\n"
     ]
    }
   ],
   "source": [
    "transform = transforms.Compose([\n",
    "        transforms.Resize([args.image_size, args.image_size]),\n",
    "        transforms.ToTensor(),\n",
    "        transforms.Normalize((0.5, 0.5, 0.5), (0.5, 0.5, 0.5))\n",
    "    ])\n",
    "testset = torchvision.datasets.CIFAR10(root=args.data_path, train=False, \n",
    "                                        download=True, transform=transform)\n",
    "\n",
    "image, label = testset.__getitem__(args.index)\n",
    "print(f\"Image shape: {image.shape}\")\n",
    "print(f\"Label: {label}\")"
   ]
  },
  {
   "cell_type": "markdown",
   "metadata": {},
   "source": [
    "Show image and label"
   ]
  },
  {
   "cell_type": "code",
   "execution_count": 40,
   "metadata": {},
   "outputs": [
    {
     "data": {
      "image/png": "[encoded data removed]",
      "text/plain": [
       "<Figure size 640x480 with 1 Axes>"
      ]
     },
     "metadata": {},
     "output_type": "display_data"
    }
   ],
   "source": [
    "img = (image / 2 + 0.5).numpy()\n",
    "plt.imshow(np.transpose(img, (1, 2, 0))) # (c, h, w) -> (h, w, c)\n",
    "plt.title(classes[label])\n",
    "plt.axis('off')\n",
    "plt.show()"
   ]
  },
  {
   "cell_type": "markdown",
   "metadata": {},
   "source": [
    "Prepare Vision Transformer model"
   ]
  },
  {
   "cell_type": "code",
   "execution_count": 41,
   "metadata": {},
   "outputs": [
    {
     "name": "stdout",
     "output_type": "stream",
     "text": [
      "VisionTransformer(\n",
      "  (embedding): EmbedLayer(\n",
      "    (conv1): Conv2d(3, 128, kernel_size=(4, 4), stride=(4, 4))\n",
      "    (dropout): Dropout(p=0.1, inplace=False)\n",
      "  )\n",
      "  (encoder): ModuleList(\n",
      "    (0-5): 6 x Encoder(\n",
      "      (norm1): LayerNorm((128,), eps=1e-05, elementwise_affine=True)\n",
      "      (attention): SelfAttention(\n",
      "        (queries): Linear(in_features=128, out_features=128, bias=True)\n",
      "        (keys): Linear(in_features=128, out_features=128, bias=True)\n",
      "        (values): Linear(in_features=128, out_features=128, bias=True)\n",
      "        (out_projection): Linear(in_features=128, out_features=128, bias=True)\n",
      "      )\n",
      "      (dropout1): Dropout(p=0.1, inplace=False)\n",
      "      (norm2): LayerNorm((128,), eps=1e-05, elementwise_affine=True)\n",
      "      (fc1): Linear(in_features=128, out_features=256, bias=True)\n",
      "      (activation): GELU(approximate='none')\n",
      "      (fc2): Linear(in_features=256, out_features=128, bias=True)\n",
      "      (dropout2): Dropout(p=0.1, inplace=False)\n",
      "    )\n",
      "  )\n",
      "  (norm): LayerNorm((128,), eps=1e-05, elementwise_affine=True)\n",
      "  (classifier): Classifier(\n",
      "    (fc1): Linear(in_features=128, out_features=128, bias=True)\n",
      "    (activation): Tanh()\n",
      "    (fc2): Linear(in_features=128, out_features=10, bias=True)\n",
      "  )\n",
      ")\n"
     ]
    }
   ],
   "source": [
    "model = VisionTransformer(args.n_channels, args.embed_dim, args.n_layers, \n",
    "                              args.n_attention_heads, args.forward_mul, args.image_size, \n",
    "                              args.patch_size, args.n_classes, args.dropout)\n",
    "model.load_state_dict(torch.load(args.model_path, weights_only=True, map_location=args.device))\n",
    "model.eval()\n",
    "print(model)"
   ]
  },
  {
   "cell_type": "markdown",
   "metadata": {},
   "source": [
    "Pass image through ViT model"
   ]
  },
  {
   "cell_type": "code",
   "execution_count": 42,
   "metadata": {},
   "outputs": [],
   "source": [
    "# logits = model(image.unsqueeze(0))"
   ]
  },
  {
   "cell_type": "markdown",
   "metadata": {},
   "source": [
    "Create folder for attention map output"
   ]
  },
  {
   "cell_type": "code",
   "execution_count": 43,
   "metadata": {},
   "outputs": [],
   "source": [
    "# time = datetime.datetime.now()\n",
    "# timestamp = str(time.strftime('%Y-%m-%d-%H-%M'))\n",
    "# os.makedirs(f\"attention_data/{timestamp}\", exist_ok=True)"
   ]
  }
 ],
 "metadata": {
  "kernelspec": {
   "display_name": "pytorch-m1",
   "language": "python",
   "name": "python3"
  },
  "language_info": {
   "codemirror_mode": {
    "name": "ipython",
    "version": 3
   },
   "file_extension": ".py",
   "mimetype": "text/x-python",
   "name": "python",
   "nbconvert_exporter": "python",
   "pygments_lexer": "ipython3",
   "version": "3.10.15"
  }
 },
 "nbformat": 4,
 "nbformat_minor": 2
}
